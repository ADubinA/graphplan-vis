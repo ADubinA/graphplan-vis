{
 "cells": [
  {
   "cell_type": "markdown",
   "metadata": {},
   "source": [
    "# Monte Carlo Tree Search\n",
    "\n",
    "This notebook explores the game ConnectFour and MCTSPlayer in the aima3 collection.\n",
    "\n",
    "* You drop pieces from the top into one of the columns, and they land in the next available open spot.\n",
    "* You must get 4 positions in a row in this grid, either horizontally, vertically, or diagonally.\n",
    "\n",
    "\n",
    "   -    | 1 | 2 | 3 | 4 | 5 | 6 | 7\n",
    "--------|---|---|---|---|---|---|---\n",
    "**6**   |( 1, 6) | ( 2, 6) | ( 3, 6) | (4,6) |(5,6) |(6,6) |(7,6)\n",
    "**5**   |( 1, 5) | ( 2, 5) | ( 3, 5) | (4,5) |(5,5) |(6,5) |(7,5)\n",
    "**4**   |( 1, 4) | ( 2, 4) | ( 3, 4) | (4,4) |(5,4) |(6,4) |(7,4)\n",
    "**3**   |( 1, 3) | ( 2, 3) | ( 3, 3) | (4,3) |(5,3) |(6,3) |(7,3)\n",
    "**2**   |( 1, 2) | ( 2, 2) | ( 3, 2) | (4,2) |(5,2) |(6,2) |(7,2)\n",
    "**1**   |( 1, 1) | ( 2, 1) | ( 3, 1) | (4,1) |(5,1) |(6,1) |(7,1)"
   ]
  },
  {
   "cell_type": "markdown",
   "metadata": {},
   "source": [
    "There are a few pre-defined AI agents that can play these games. QueryPlayer is for humans, and MCTS is MonteCarloTreeSearch. The other are well-known search-based algorithms."
   ]
  },
  {
   "cell_type": "code",
   "execution_count": 2,
   "metadata": {},
   "outputs": [],
   "source": [
    "from aima3.games import (ConnectFour, RandomPlayer, QueryPlayer, players,\n",
    "                         MCTSPlayer, MiniMaxPlayer, AlphaBetaCutoffPlayer,\n",
    "                         AlphaBetaPlayer, GameState)"
   ]
  },
  {
   "cell_type": "markdown",
   "metadata": {},
   "source": [
    "Let's play a game:"
   ]
  },
  {
   "cell_type": "code",
   "execution_count": 3,
   "metadata": {},
   "outputs": [],
   "source": [
    "p1 = AlphaBetaCutoffPlayer()\n",
    "p2 = MCTSPlayer(n_playout=150)\n",
    "p3 = RandomPlayer()\n",
    "game = ConnectFour()"
   ]
  },
  {
   "cell_type": "code",
   "execution_count": 4,
   "metadata": {
    "scrolled": false
   },
   "outputs": [
    {
     "name": "stderr",
     "output_type": "stream",
     "text": [
      "100%|██████████| 6/6 [00:17<00:00,  2.53s/it]\n"
     ]
    },
    {
     "data": {
      "text/plain": [
       "{'AlphaBetaCutoffPlayer-1': 20,\n",
       " 'DRAW': 0,\n",
       " 'MCTSPlayer-1': 39,\n",
       " 'RandomPlayer-1': 1}"
      ]
     },
     "execution_count": 4,
     "metadata": {},
     "output_type": "execute_result"
    }
   ],
   "source": [
    "game.play_tournament(10, p1, p2, p3)"
   ]
  },
  {
   "cell_type": "markdown",
   "metadata": {},
   "source": [
    "To reset the tree search to get ready for a fresh game (and no stats), do this:"
   ]
  },
  {
   "cell_type": "code",
   "execution_count": 5,
   "metadata": {},
   "outputs": [],
   "source": [
    "p2.mcts.update_with_move(-1)"
   ]
  },
  {
   "cell_type": "markdown",
   "metadata": {},
   "source": [
    "Now, let's run a get_move_probs(). This will simulate mcts.n_playout moves. Currently, playout is set to:"
   ]
  },
  {
   "cell_type": "code",
   "execution_count": 6,
   "metadata": {},
   "outputs": [
    {
     "data": {
      "text/plain": [
       "150"
      ]
     },
     "execution_count": 6,
     "metadata": {},
     "output_type": "execute_result"
    }
   ],
   "source": [
    "p2.mcts.n_playout"
   ]
  },
  {
   "cell_type": "markdown",
   "metadata": {},
   "source": [
    "So, 150 simulated steps from leafs in the tree for each move. We get back those moves, and their probabilities:"
   ]
  },
  {
   "cell_type": "code",
   "execution_count": 7,
   "metadata": {},
   "outputs": [
    {
     "data": {
      "text/plain": [
       "(((1, 1), (2, 1), (3, 1), (4, 1), (5, 1), (6, 1), (7, 1)),\n",
       " array([0.15253703, 0.15253703, 0.13898519, 0.13898519, 0.13898519,\n",
       "        0.13898519, 0.13898519]))"
      ]
     },
     "execution_count": 7,
     "metadata": {},
     "output_type": "execute_result"
    }
   ],
   "source": [
    "p2.mcts.get_move_probs(game.initial)"
   ]
  },
  {
   "cell_type": "markdown",
   "metadata": {},
   "source": [
    "To see these a bit more clearly, here is a little function: "
   ]
  },
  {
   "cell_type": "code",
   "execution_count": 8,
   "metadata": {},
   "outputs": [],
   "source": [
    "def pp(moves_probs):\n",
    "    moves = moves_probs[0]\n",
    "    probs = moves_probs[1]\n",
    "    for i in range(len(moves)):\n",
    "        print(\"%7s\" % (moves[i],), end=\" | \")\n",
    "    print()\n",
    "    for i in range(len(probs)):\n",
    "        print(\"%7.3s\" % (probs[i],), end=\" | \")\n",
    "    print()"
   ]
  },
  {
   "cell_type": "code",
   "execution_count": 9,
   "metadata": {},
   "outputs": [
    {
     "name": "stdout",
     "output_type": "stream",
     "text": [
      " (1, 1) |  (2, 1) |  (3, 1) |  (4, 1) |  (5, 1) |  (6, 1) |  (7, 1) | \n",
      "    0.1 |     0.1 |     0.1 |     0.1 |     0.1 |     0.1 |     0.1 | \n"
     ]
    }
   ],
   "source": [
    "pp(p2.mcts.get_move_probs(game.initial))"
   ]
  },
  {
   "cell_type": "markdown",
   "metadata": {},
   "source": [
    "The above ran an additional 20 simulated moves in the game.\n",
    "\n",
    "Let's set up some board states, and see what MCTS rates them:"
   ]
  },
  {
   "cell_type": "code",
   "execution_count": 10,
   "metadata": {},
   "outputs": [
    {
     "name": "stdout",
     "output_type": "stream",
     "text": [
      ". . . . . . . \n",
      ". . . . . . . \n",
      ". . . . . . . \n",
      ". . . . . . . \n",
      ". . . . . . . \n",
      ". . . X . . . \n"
     ]
    }
   ],
   "source": [
    "state = game.initial\n",
    "state = game.result(state, (4,1))\n",
    "game.display(state)"
   ]
  },
  {
   "cell_type": "markdown",
   "metadata": {},
   "source": [
    "We could step through a game like that, or just poke in the right values for a state:"
   ]
  },
  {
   "cell_type": "code",
   "execution_count": 11,
   "metadata": {},
   "outputs": [],
   "source": [
    "moves = game.initial.moves[:]\n",
    "moves.remove((1,1))\n",
    "moves.remove((2,1))\n",
    "moves.remove((7,1))\n",
    "moves.remove((7,2))"
   ]
  },
  {
   "cell_type": "code",
   "execution_count": 12,
   "metadata": {},
   "outputs": [],
   "source": [
    "state = GameState(to_move='X', board={(1,1): 'X', (2, 1): 'X',\n",
    "                                      (7,1): 'O', (7, 2): 'O'}, utility=0, moves=moves)\n",
    "state = game.result(state, (3,1))"
   ]
  },
  {
   "cell_type": "code",
   "execution_count": 13,
   "metadata": {},
   "outputs": [
    {
     "name": "stdout",
     "output_type": "stream",
     "text": [
      ". . . . . . . \n",
      ". . . . . . . \n",
      ". . . . . . . \n",
      ". . . . . . . \n",
      ". . . . . . O \n",
      "X X X . . . O \n"
     ]
    }
   ],
   "source": [
    "game.display(state)"
   ]
  },
  {
   "cell_type": "code",
   "execution_count": 14,
   "metadata": {},
   "outputs": [],
   "source": [
    "s1 = game.result(game.initial, (1,1))"
   ]
  },
  {
   "cell_type": "code",
   "execution_count": 15,
   "metadata": {},
   "outputs": [
    {
     "data": {
      "text/plain": [
       "GameState(to_move='O', utility=0, board={(1, 1): 'X'}, moves=[(1, 2), (1, 3), (1, 4), (1, 5), (1, 6), (2, 1), (2, 2), (2, 3), (2, 4), (2, 5), (2, 6), (3, 1), (3, 2), (3, 3), (3, 4), (3, 5), (3, 6), (4, 1), (4, 2), (4, 3), (4, 4), (4, 5), (4, 6), (5, 1), (5, 2), (5, 3), (5, 4), (5, 5), (5, 6), (6, 1), (6, 2), (6, 3), (6, 4), (6, 5), (6, 6), (7, 1), (7, 2), (7, 3), (7, 4), (7, 5), (7, 6)])"
      ]
     },
     "execution_count": 15,
     "metadata": {},
     "output_type": "execute_result"
    }
   ],
   "source": [
    "s1"
   ]
  },
  {
   "cell_type": "code",
   "execution_count": 16,
   "metadata": {},
   "outputs": [
    {
     "name": "stdout",
     "output_type": "stream",
     "text": [
      ". . . . . . . \n",
      ". . . . . . . \n",
      ". . . . . . . \n",
      ". . . . . . . \n",
      ". . . . . . . \n",
      "X . . . . . . \n"
     ]
    }
   ],
   "source": [
    "game.display(s1)"
   ]
  },
  {
   "cell_type": "code",
   "execution_count": 17,
   "metadata": {},
   "outputs": [],
   "source": [
    "state = game.string_to_state(\"\"\"\n",
    ". . . . . . . \n",
    ". . . . . . . \n",
    ". . . . . . . \n",
    ". . . . . . O \n",
    ". . . . . . O \n",
    "X X X X . . O \n",
    "\"\"\", to_move='X')"
   ]
  },
  {
   "cell_type": "code",
   "execution_count": 18,
   "metadata": {},
   "outputs": [
    {
     "name": "stdout",
     "output_type": "stream",
     "text": [
      ". . . . . . . \n",
      ". . . . . . . \n",
      ". . . . . . . \n",
      ". . . . . . O \n",
      ". . . . . . O \n",
      "X X X X . . O \n"
     ]
    }
   ],
   "source": [
    "game.display(state)"
   ]
  },
  {
   "cell_type": "code",
   "execution_count": 19,
   "metadata": {},
   "outputs": [
    {
     "data": {
      "text/plain": [
       "[(1, 2), (2, 2), (3, 2), (4, 2), (5, 1), (6, 1), (7, 4)]"
      ]
     },
     "execution_count": 19,
     "metadata": {},
     "output_type": "execute_result"
    }
   ],
   "source": [
    "game.actions(state)"
   ]
  },
  {
   "cell_type": "markdown",
   "metadata": {},
   "source": [
    "Looks good! Let's evaluate it. First, we reset:"
   ]
  },
  {
   "cell_type": "code",
   "execution_count": 23,
   "metadata": {},
   "outputs": [],
   "source": [
    "p2.mcts.update_with_move(-1)"
   ]
  },
  {
   "cell_type": "code",
   "execution_count": 24,
   "metadata": {},
   "outputs": [
    {
     "name": "stdout",
     "output_type": "stream",
     "text": [
      " (1, 2) |  (2, 2) |  (3, 2) |  (4, 2) |  (5, 1) |  (6, 1) |  (7, 4) | \n",
      "    0.0 |     0.0 |     0.0 |     0.0 |     0.9 |     0.0 |     0.0 | \n"
     ]
    }
   ],
   "source": [
    "pp(p2.mcts.get_move_probs(state))"
   ]
  },
  {
   "cell_type": "markdown",
   "metadata": {},
   "source": [
    "What exactly does simulating a step do? One thing is that it expands the tree of options explored:"
   ]
  },
  {
   "cell_type": "code",
   "execution_count": 25,
   "metadata": {},
   "outputs": [
    {
     "data": {
      "text/plain": [
       "{(1, 2): <aima3.mcts.Node at 0x7f5de43d5c50>,\n",
       " (2, 2): <aima3.mcts.Node at 0x7f5de43d5ac8>,\n",
       " (3, 2): <aima3.mcts.Node at 0x7f5de43d5cf8>,\n",
       " (4, 2): <aima3.mcts.Node at 0x7f5de43d5c88>,\n",
       " (5, 1): <aima3.mcts.Node at 0x7f5de43d5dd8>,\n",
       " (6, 1): <aima3.mcts.Node at 0x7f5de43d5c18>,\n",
       " (7, 4): <aima3.mcts.Node at 0x7f5de43d5b38>}"
      ]
     },
     "execution_count": 25,
     "metadata": {},
     "output_type": "execute_result"
    }
   ],
   "source": [
    "p2.mcts.root.children"
   ]
  },
  {
   "cell_type": "markdown",
   "metadata": {},
   "source": [
    "To see how deep that goes:"
   ]
  },
  {
   "cell_type": "code",
   "execution_count": 26,
   "metadata": {},
   "outputs": [
    {
     "data": {
      "text/plain": [
       "3"
      ]
     },
     "execution_count": 26,
     "metadata": {},
     "output_type": "execute_result"
    }
   ],
   "source": [
    "p2.mcts.root.depth()"
   ]
  },
  {
   "cell_type": "markdown",
   "metadata": {},
   "source": [
    "Ok, now let's watch the depth grow over time. In addition, we can watch a couple of move's as their probabilities change with deep exploration. Let's watch (4,1) and (7,3). The first move needs to be made to block X from winning. The second would be a step toward winning. Note that we set n_playout to 1 so we just explore one smove at a time."
   ]
  },
  {
   "cell_type": "code",
   "execution_count": 27,
   "metadata": {},
   "outputs": [],
   "source": [
    "import matplotlib.pyplot as plt"
   ]
  },
  {
   "cell_type": "code",
   "execution_count": 28,
   "metadata": {},
   "outputs": [
    {
     "data": {
      "image/png": "[encoded data removed]",
      "text/plain": [
       "<matplotlib.figure.Figure at 0x7f5de41ff908>"
      ]
     },
     "metadata": {},
     "output_type": "display_data"
    }
   ],
   "source": [
    "state = game.initial\n",
    "\n",
    "p2.mcts.update_with_move(-1)\n",
    "p2.mcts.n_playout = 1\n",
    "\n",
    "history = []\n",
    "depth = [0]\n",
    "watchlist = [(4,1), (7,1)]\n",
    "cycles = 50\n",
    "for i in range(cycles):\n",
    "    move_probs = p2.mcts.get_move_probs(state)\n",
    "    depth.append(p2.mcts.root.depth())\n",
    "    watch = []\n",
    "    for move in watchlist:\n",
    "        index = move_probs[0].index(move)\n",
    "        watch.append(move_probs[1][index])\n",
    "    history.append(watch)\n",
    "plt.plot(history);"
   ]
  },
  {
   "cell_type": "code",
   "execution_count": 29,
   "metadata": {},
   "outputs": [
    {
     "data": {
      "image/png": "[encoded data removed]",
      "text/plain": [
       "<matplotlib.figure.Figure at 0x7f5dd97094e0>"
      ]
     },
     "metadata": {},
     "output_type": "display_data"
    }
   ],
   "source": [
    "plt.plot(depth);"
   ]
  },
  {
   "cell_type": "code",
   "execution_count": 32,
   "metadata": {},
   "outputs": [],
   "source": [
    "state = game.string_to_state(\"\"\"\n",
    ".......\n",
    ".......\n",
    ".......\n",
    "......O\n",
    "......O\n",
    ".XX...O\n",
    "\"\"\", to_move='X')"
   ]
  },
  {
   "cell_type": "code",
   "execution_count": 33,
   "metadata": {},
   "outputs": [
    {
     "name": "stdout",
     "output_type": "stream",
     "text": [
      ". . . . . . . \n",
      ". . . . . . . \n",
      ". . . . . . . \n",
      ". . . . . . O \n",
      ". . . . . . O \n",
      ". X X . . . O \n"
     ]
    }
   ],
   "source": [
    "game.display(state)"
   ]
  },
  {
   "cell_type": "code",
   "execution_count": 35,
   "metadata": {},
   "outputs": [
    {
     "name": "stdout",
     "output_type": "stream",
     "text": [
      "Start state:\n",
      ". . . . . . . \n",
      ". . . . . . . \n",
      ". . . . . . . \n",
      ". . . . . . . \n",
      ". . . . . . O \n",
      "X X X . . . O \n"
     ]
    },
    {
     "data": {
      "image/png": "[encoded data removed]",
      "text/plain": [
       "<matplotlib.figure.Figure at 0x7f5de42cc9b0>"
      ]
     },
     "metadata": {},
     "output_type": "display_data"
    }
   ],
   "source": [
    "state = GameState(to_move='X', board={(1,1): 'X', (2, 1): 'X',\n",
    "                                      (7,1): 'O', (7, 2): 'O'}, utility=0, moves=moves)\n",
    "state = game.result(state, (3,1))\n",
    "print(\"Start state:\")\n",
    "game.display(state)\n",
    "p2.mcts.update_with_move(-1)\n",
    "p2.mcts.is_selfplay = True\n",
    "p2.mcts.temp = 0.7 # exploration (0, 1]\n",
    "p2.mcts.n_playout = 30  ## 2 leads to 500 nodes after 50 cycles; 1 leads to 250 nodes after 50 cycles\n",
    "\n",
    "history = []\n",
    "depth = [0]\n",
    "size = []\n",
    "all_nodes = []\n",
    "_ = p2.mcts.root.visit(lambda node: all_nodes.append(node.P))\n",
    "watchlist = state.moves\n",
    "cycles = 50\n",
    "for i in range(cycles):\n",
    "    move_probs = p2.mcts.get_move_probs(state)\n",
    "    depth.append(p2.mcts.root.depth())\n",
    "    all_nodes = []\n",
    "    _ = p2.mcts.root.visit(lambda node: all_nodes.append(node.P))\n",
    "    size.append(len(all_nodes))\n",
    "    watch = []\n",
    "    for move in watchlist:\n",
    "        if move in move_probs[0]:\n",
    "            index = move_probs[0].index(move)\n",
    "            watch.append(move_probs[1][index])\n",
    "    history.append(watch)\n",
    "plt.plot(history); "
   ]
  },
  {
   "cell_type": "code",
   "execution_count": 36,
   "metadata": {},
   "outputs": [
    {
     "data": {
      "image/png": "[encoded data removed]",
      "text/plain": [
       "<matplotlib.figure.Figure at 0x7f5de42ccd68>"
      ]
     },
     "metadata": {},
     "output_type": "display_data"
    }
   ],
   "source": [
    "plt.plot(depth); "
   ]
  },
  {
   "cell_type": "code",
   "execution_count": 37,
   "metadata": {},
   "outputs": [
    {
     "data": {
      "text/plain": [
       "[<matplotlib.lines.Line2D at 0x7f5dcfe58a20>]"
      ]
     },
     "execution_count": 37,
     "metadata": {},
     "output_type": "execute_result"
    },
    {
     "data": {
      "image/png": "[encoded data removed]",
      "text/plain": [
       "<matplotlib.figure.Figure at 0x7f5dcfe8f128>"
      ]
     },
     "metadata": {},
     "output_type": "display_data"
    }
   ],
   "source": [
    "plt.plot(size)"
   ]
  },
  {
   "cell_type": "markdown",
   "metadata": {},
   "source": [
    "Interesting! So we need at least a number of playouts before we can find an endstate."
   ]
  },
  {
   "cell_type": "code",
   "execution_count": 38,
   "metadata": {},
   "outputs": [
    {
     "data": {
      "text/plain": [
       "6"
      ]
     },
     "execution_count": 38,
     "metadata": {},
     "output_type": "execute_result"
    }
   ],
   "source": [
    "p2.mcts.root.depth()"
   ]
  },
  {
   "cell_type": "markdown",
   "metadata": {},
   "source": [
    "## Summary\n",
    "\n",
    "* updates root as it makes the move; no need to keep previous tree expansions\n",
    "* wherever you are, you keep the statistics about this root's possibilities"
   ]
  }
 ],
 "metadata": {
  "kernelspec": {
   "display_name": "Python 3",
   "language": "python",
   "name": "python3"
  },
  "language_info": {
   "codemirror_mode": {
    "name": "ipython",
    "version": 3
   },
   "file_extension": ".py",
   "mimetype": "text/x-python",
   "name": "python",
   "nbconvert_exporter": "python",
   "pygments_lexer": "ipython3",
   "version": "3.6.3"
  }
 },
 "nbformat": 4,
 "nbformat_minor": 2
}
