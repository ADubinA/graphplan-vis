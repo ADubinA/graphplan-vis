{
 "cells": [
  {
   "cell_type": "markdown",
   "metadata": {},
   "source": [
    "# Monte Carlo Tree Search\n",
    "\n",
    "This notebook explores the game ConnectFour and MCTSPlayer in the aima3 collection.\n",
    "\n",
    "* You drop pieces from the top into one of the columns, and they land in the next available open spot.\n",
    "* You must get 4 positions in a row in this grid, either horizontally, vertically, or diagonally.\n",
    "\n",
    "\n",
    "   -    | 1 | 2 | 3 | 4 | 5 | 6 | 7\n",
    "--------|---|---|---|---|---|---|---\n",
    "**6**   |( 1, 6) | ( 2, 6) | ( 3, 6) | (4,6) |(5,6) |(6,6) |(7,6)\n",
    "**5**   |( 1, 5) | ( 2, 5) | ( 3, 5) | (4,5) |(5,5) |(6,5) |(7,5)\n",
    "**4**   |( 1, 4) | ( 2, 4) | ( 3, 4) | (4,4) |(5,4) |(6,4) |(7,4)\n",
    "**3**   |( 1, 3) | ( 2, 3) | ( 3, 3) | (4,3) |(5,3) |(6,3) |(7,3)\n",
    "**2**   |( 1, 2) | ( 2, 2) | ( 3, 2) | (4,2) |(5,2) |(6,2) |(7,2)\n",
    "**1**   |( 1, 1) | ( 2, 1) | ( 3, 1) | (4,1) |(5,1) |(6,1) |(7,1)"
   ]
  },
  {
   "cell_type": "markdown",
   "metadata": {},
   "source": [
    "There are a few pre-defined AI agents that can play these games. QueryPlayer is for humans, and MCTS is MonteCarloTreeSearch. The other are well-known search-based algorithms."
   ]
  },
  {
   "cell_type": "code",
   "execution_count": 111,
   "metadata": {},
   "outputs": [],
   "source": [
    "from aima3.games import (ConnectFour, RandomPlayer, QueryPlayer, players,\n",
    "                         MCTSPlayer, MiniMaxPlayer, AlphaBetaCutoffPlayer,\n",
    "                         AlphaBetaPlayer, GameState)"
   ]
  },
  {
   "cell_type": "markdown",
   "metadata": {},
   "source": [
    "Let's play a game:"
   ]
  },
  {
   "cell_type": "code",
   "execution_count": 112,
   "metadata": {},
   "outputs": [
    {
     "name": "stdout",
     "output_type": "stream",
     "text": [
      "Monte is thinking...\n",
      "Monte makes action (2, 1):\n",
      ". . . . . . . \n",
      ". . . . . . . \n",
      ". . . . . . . \n",
      ". . . . . . . \n",
      ". . . . . . . \n",
      ". . . . . . . \n",
      ". X . . . . . \n",
      "Rando is thinking...\n",
      "Rando makes action (1, 1):\n",
      ". . . . . . . \n",
      ". . . . . . . \n",
      ". . . . . . . \n",
      ". . . . . . . \n",
      ". . . . . . . \n",
      ". . . . . . . \n",
      "O X . . . . . \n",
      "Monte is thinking...\n",
      "Monte makes action (3, 1):\n",
      ". . . . . . . \n",
      ". . . . . . . \n",
      ". . . . . . . \n",
      ". . . . . . . \n",
      ". . . . . . . \n",
      ". . . . . . . \n",
      "O X X . . . . \n",
      "Rando is thinking...\n",
      "Rando makes action (5, 1):\n",
      ". . . . . . . \n",
      ". . . . . . . \n",
      ". . . . . . . \n",
      ". . . . . . . \n",
      ". . . . . . . \n",
      ". . . . . . . \n",
      "O X X . O . . \n",
      "Monte is thinking...\n",
      "Monte makes action (1, 2):\n",
      ". . . . . . . \n",
      ". . . . . . . \n",
      ". . . . . . . \n",
      ". . . . . . . \n",
      ". . . . . . . \n",
      "X . . . . . . \n",
      "O X X . O . . \n",
      "Rando is thinking...\n",
      "Rando makes action (1, 3):\n",
      ". . . . . . . \n",
      ". . . . . . . \n",
      ". . . . . . . \n",
      ". . . . . . . \n",
      "O . . . . . . \n",
      "X . . . . . . \n",
      "O X X . O . . \n",
      "Monte is thinking...\n",
      "Monte makes action (2, 2):\n",
      ". . . . . . . \n",
      ". . . . . . . \n",
      ". . . . . . . \n",
      ". . . . . . . \n",
      "O . . . . . . \n",
      "X X . . . . . \n",
      "O X X . O . . \n",
      "Rando is thinking...\n",
      "Rando makes action (1, 4):\n",
      ". . . . . . . \n",
      ". . . . . . . \n",
      ". . . . . . . \n",
      "O . . . . . . \n",
      "O . . . . . . \n",
      "X X . . . . . \n",
      "O X X . O . . \n",
      "Monte is thinking...\n",
      "Monte makes action (2, 3):\n",
      ". . . . . . . \n",
      ". . . . . . . \n",
      ". . . . . . . \n",
      "O . . . . . . \n",
      "O X . . . . . \n",
      "X X . . . . . \n",
      "O X X . O . . \n",
      "Rando is thinking...\n",
      "Rando makes action (5, 2):\n",
      ". . . . . . . \n",
      ". . . . . . . \n",
      ". . . . . . . \n",
      "O . . . . . . \n",
      "O X . . . . . \n",
      "X X . . O . . \n",
      "O X X . O . . \n",
      "Monte is thinking...\n",
      "Monte makes action (3, 2):\n",
      ". . . . . . . \n",
      ". . . . . . . \n",
      ". . . . . . . \n",
      "O . . . . . . \n",
      "O X . . . . . \n",
      "X X X . O . . \n",
      "O X X . O . . \n",
      "Rando is thinking...\n",
      "Rando makes action (2, 4):\n",
      ". . . . . . . \n",
      ". . . . . . . \n",
      ". . . . . . . \n",
      "O O . . . . . \n",
      "O X . . . . . \n",
      "X X X . O . . \n",
      "O X X . O . . \n",
      "Monte is thinking...\n",
      "Monte makes action (6, 1):\n",
      ". . . . . . . \n",
      ". . . . . . . \n",
      ". . . . . . . \n",
      "O O . . . . . \n",
      "O X . . . . . \n",
      "X X X . O . . \n",
      "O X X . O X . \n",
      "Rando is thinking...\n",
      "Rando makes action (7, 1):\n",
      ". . . . . . . \n",
      ". . . . . . . \n",
      ". . . . . . . \n",
      "O O . . . . . \n",
      "O X . . . . . \n",
      "X X X . O . . \n",
      "O X X . O X O \n",
      "Monte is thinking...\n",
      "Monte makes action (1, 5):\n",
      ". . . . . . . \n",
      ". . . . . . . \n",
      "X . . . . . . \n",
      "O O . . . . . \n",
      "O X . . . . . \n",
      "X X X . O . . \n",
      "O X X . O X O \n",
      "Rando is thinking...\n",
      "Rando makes action (1, 6):\n",
      ". . . . . . . \n",
      "O . . . . . . \n",
      "X . . . . . . \n",
      "O O . . . . . \n",
      "O X . . . . . \n",
      "X X X . O . . \n",
      "O X X . O X O \n",
      "Monte is thinking...\n",
      "Monte makes action (2, 5):\n",
      ". . . . . . . \n",
      "O . . . . . . \n",
      "X X . . . . . \n",
      "O O . . . . . \n",
      "O X . . . . . \n",
      "X X X . O . . \n",
      "O X X . O X O \n",
      "Rando is thinking...\n",
      "Rando makes action (7, 2):\n",
      ". . . . . . . \n",
      "O . . . . . . \n",
      "X X . . . . . \n",
      "O O . . . . . \n",
      "O X . . . . . \n",
      "X X X . O . O \n",
      "O X X . O X O \n",
      "Monte is thinking...\n",
      "Monte makes action (2, 6):\n",
      ". . . . . . . \n",
      "O X . . . . . \n",
      "X X . . . . . \n",
      "O O . . . . . \n",
      "O X . . . . . \n",
      "X X X . O . O \n",
      "O X X . O X O \n",
      "Rando is thinking...\n",
      "Rando makes action (4, 1):\n",
      ". . . . . . . \n",
      "O X . . . . . \n",
      "X X . . . . . \n",
      "O O . . . . . \n",
      "O X . . . . . \n",
      "X X X . O . O \n",
      "O X X O O X O \n",
      "Monte is thinking...\n",
      "Monte makes action (5, 3):\n",
      ". . . . . . . \n",
      "O X . . . . . \n",
      "X X . . . . . \n",
      "O O . . . . . \n",
      "O X . . X . . \n",
      "X X X . O . O \n",
      "O X X O O X O \n",
      "Rando is thinking...\n",
      "Rando makes action (6, 2):\n",
      ". . . . . . . \n",
      "O X . . . . . \n",
      "X X . . . . . \n",
      "O O . . . . . \n",
      "O X . . X . . \n",
      "X X X . O O O \n",
      "O X X O O X O \n",
      "Monte is thinking...\n",
      "Monte makes action (5, 4):\n",
      ". . . . . . . \n",
      "O X . . . . . \n",
      "X X . . . . . \n",
      "O O . . X . . \n",
      "O X . . X . . \n",
      "X X X . O O O \n",
      "O X X O O X O \n",
      "Rando is thinking...\n",
      "Rando makes action (5, 5):\n",
      ". . . . . . . \n",
      "O X . . . . . \n",
      "X X . . O . . \n",
      "O O . . X . . \n",
      "O X . . X . . \n",
      "X X X . O O O \n",
      "O X X O O X O \n",
      "Monte is thinking...\n",
      "Monte makes action (4, 2):\n",
      ". . . . . . . \n",
      "O X . . . . . \n",
      "X X . . O . . \n",
      "O O . . X . . \n",
      "O X . . X . . \n",
      "X X X X O O O \n",
      "O X X O O X O \n",
      "***** Monte wins!\n"
     ]
    },
    {
     "data": {
      "text/plain": [
       "['Monte']"
      ]
     },
     "execution_count": 112,
     "metadata": {},
     "output_type": "execute_result"
    }
   ],
   "source": [
    "p1 = RandomPlayer(\"Rando\")\n",
    "p2 = MCTSPlayer(\"Monte\")\n",
    "game = ConnectFour()\n",
    "game.play_game(p1, p2)"
   ]
  },
  {
   "cell_type": "markdown",
   "metadata": {},
   "source": [
    "To reset the tree search to get ready for a fresh game (and no stats), do this:"
   ]
  },
  {
   "cell_type": "code",
   "execution_count": 113,
   "metadata": {},
   "outputs": [],
   "source": [
    "p2.mcts.update_with_move(-1)"
   ]
  },
  {
   "cell_type": "markdown",
   "metadata": {},
   "source": [
    "Now, let's run a get_move_probs(). This will simulate mcts.n_playout moves. Currently, playout is set to:"
   ]
  },
  {
   "cell_type": "code",
   "execution_count": 114,
   "metadata": {},
   "outputs": [
    {
     "data": {
      "text/plain": [
       "20"
      ]
     },
     "execution_count": 114,
     "metadata": {},
     "output_type": "execute_result"
    }
   ],
   "source": [
    "p2.mcts.n_playout"
   ]
  },
  {
   "cell_type": "markdown",
   "metadata": {},
   "source": [
    "So, 20 simulated steps from leafs in the tree. We get back those moves, and their probabilities:"
   ]
  },
  {
   "cell_type": "code",
   "execution_count": 14,
   "metadata": {},
   "outputs": [
    {
     "data": {
      "text/plain": [
       "(((1, 1), (2, 1), (3, 1), (4, 1), (5, 1), (6, 1), (7, 1)),\n",
       " array([2.00000000e-001, 2.00000000e-001, 2.00000000e-001, 2.00000000e-001,\n",
       "        2.00000000e-001, 1.62095496e-177, 1.62095496e-177]))"
      ]
     },
     "execution_count": 14,
     "metadata": {},
     "output_type": "execute_result"
    }
   ],
   "source": [
    "p2.mcts.get_move_probs(game.initial)"
   ]
  },
  {
   "cell_type": "markdown",
   "metadata": {},
   "source": [
    "To see these a bit more clearly, here is a little function: "
   ]
  },
  {
   "cell_type": "code",
   "execution_count": 91,
   "metadata": {},
   "outputs": [],
   "source": [
    "def pp(moves_probs):\n",
    "    moves = moves_probs[0]\n",
    "    probs = moves_probs[1]\n",
    "    for i in range(len(moves)):\n",
    "        print(\"%7s\" % (moves[i],), end=\" | \")\n",
    "    print()\n",
    "    for i in range(len(probs)):\n",
    "        print(\"%7.3s\" % (probs[i],), end=\" | \")\n",
    "    print()"
   ]
  },
  {
   "cell_type": "code",
   "execution_count": 115,
   "metadata": {},
   "outputs": [
    {
     "name": "stdout",
     "output_type": "stream",
     "text": [
      " (1, 1) |  (2, 1) |  (3, 1) |  (4, 1) |  (5, 1) |  (6, 1) |  (7, 1) | \n",
      "    0.2 |     0.2 |     0.2 |     0.2 |     0.2 |     1.6 |     1.6 | \n"
     ]
    }
   ],
   "source": [
    "pp(p2.mcts.get_move_probs(game.initial))"
   ]
  },
  {
   "cell_type": "markdown",
   "metadata": {},
   "source": [
    "The above ran an additional 20 simulated moves in the game.\n",
    "\n",
    "Let's set up some board states, and see what MCTS rates them:"
   ]
  },
  {
   "cell_type": "code",
   "execution_count": 116,
   "metadata": {},
   "outputs": [
    {
     "name": "stdout",
     "output_type": "stream",
     "text": [
      ". . . . . . . \n",
      ". . . . . . . \n",
      ". . . . . . . \n",
      ". . . . . . . \n",
      ". . . . . . . \n",
      ". . . . . . . \n",
      ". . . X . . . \n"
     ]
    }
   ],
   "source": [
    "state = game.initial\n",
    "state = game.result(state, (4,1))\n",
    "game.display(state)"
   ]
  },
  {
   "cell_type": "markdown",
   "metadata": {},
   "source": [
    "We could step through a game like that, or just poke in the right values for a state:"
   ]
  },
  {
   "cell_type": "code",
   "execution_count": 117,
   "metadata": {},
   "outputs": [],
   "source": [
    "moves = game.initial.moves[:]\n",
    "moves.remove((1,1))\n",
    "moves.remove((2,1))\n",
    "moves.remove((7,1))\n",
    "moves.remove((7,2))"
   ]
  },
  {
   "cell_type": "code",
   "execution_count": 118,
   "metadata": {},
   "outputs": [],
   "source": [
    "state = GameState(to_move='X', board={(1,1): 'X', (2, 1): 'X',\n",
    "                                      (7,1): 'O', (7, 2): 'O'}, utility=0, moves=moves)\n",
    "state = game.result(state, (3,1))"
   ]
  },
  {
   "cell_type": "code",
   "execution_count": 119,
   "metadata": {},
   "outputs": [
    {
     "name": "stdout",
     "output_type": "stream",
     "text": [
      ". . . . . . . \n",
      ". . . . . . . \n",
      ". . . . . . . \n",
      ". . . . . . . \n",
      ". . . . . . . \n",
      ". . . . . . O \n",
      "X X X . . . O \n"
     ]
    }
   ],
   "source": [
    "game.display(state)"
   ]
  },
  {
   "cell_type": "code",
   "execution_count": 120,
   "metadata": {},
   "outputs": [
    {
     "data": {
      "text/plain": [
       "GameState(to_move='O', utility=0, board={(1, 1): 'X', (2, 1): 'X', (7, 1): 'O', (7, 2): 'O', (3, 1): 'X'}, moves=[(1, 2), (1, 3), (1, 4), (1, 5), (1, 6), (2, 2), (2, 3), (2, 4), (2, 5), (2, 6), (3, 2), (3, 3), (3, 4), (3, 5), (3, 6), (4, 1), (4, 2), (4, 3), (4, 4), (4, 5), (4, 6), (5, 1), (5, 2), (5, 3), (5, 4), (5, 5), (5, 6), (6, 1), (6, 2), (6, 3), (6, 4), (6, 5), (6, 6), (7, 3), (7, 4), (7, 5), (7, 6)])"
      ]
     },
     "execution_count": 120,
     "metadata": {},
     "output_type": "execute_result"
    }
   ],
   "source": [
    "state"
   ]
  },
  {
   "cell_type": "code",
   "execution_count": 121,
   "metadata": {},
   "outputs": [
    {
     "data": {
      "text/plain": [
       "[(1, 2), (2, 2), (3, 2), (4, 1), (5, 1), (6, 1), (7, 3)]"
      ]
     },
     "execution_count": 121,
     "metadata": {},
     "output_type": "execute_result"
    }
   ],
   "source": [
    "game.actions(state)"
   ]
  },
  {
   "cell_type": "markdown",
   "metadata": {},
   "source": [
    "Looks good! Let's evaluate it. First, we reset:"
   ]
  },
  {
   "cell_type": "code",
   "execution_count": 122,
   "metadata": {},
   "outputs": [],
   "source": [
    "p2.mcts.update_with_move(-1)"
   ]
  },
  {
   "cell_type": "code",
   "execution_count": 123,
   "metadata": {},
   "outputs": [
    {
     "name": "stdout",
     "output_type": "stream",
     "text": [
      " (1, 2) |  (2, 2) |  (3, 2) |  (4, 1) |  (5, 1) |  (6, 1) |  (7, 3) | \n",
      "    0.2 |     0.2 |     0.2 |     0.2 |     0.2 |     1.6 |     1.6 | \n"
     ]
    }
   ],
   "source": [
    "pp(p2.mcts.get_move_probs(state))"
   ]
  },
  {
   "cell_type": "markdown",
   "metadata": {},
   "source": [
    "What exactly does simulating a step do? One thing is that it expands the tree of options explored:"
   ]
  },
  {
   "cell_type": "code",
   "execution_count": 82,
   "metadata": {},
   "outputs": [
    {
     "data": {
      "text/plain": [
       "{(1, 2): <aima3.mcts.Node at 0x7fd0f8f077f0>,\n",
       " (2, 2): <aima3.mcts.Node at 0x7fd0f8f07588>,\n",
       " (3, 2): <aima3.mcts.Node at 0x7fd0f8f075c0>,\n",
       " (4, 1): <aima3.mcts.Node at 0x7fd0f8f075f8>,\n",
       " (5, 1): <aima3.mcts.Node at 0x7fd0f8f07630>,\n",
       " (6, 1): <aima3.mcts.Node at 0x7fd0f8f070f0>,\n",
       " (7, 3): <aima3.mcts.Node at 0x7fd0f8f07668>}"
      ]
     },
     "execution_count": 82,
     "metadata": {},
     "output_type": "execute_result"
    }
   ],
   "source": [
    "p2.mcts.root.children"
   ]
  },
  {
   "cell_type": "markdown",
   "metadata": {},
   "source": [
    "To see how deep that goes:"
   ]
  },
  {
   "cell_type": "code",
   "execution_count": 124,
   "metadata": {},
   "outputs": [],
   "source": [
    "def max_depth(tree):\n",
    "    if tree is None:\n",
    "        return 0\n",
    "    elif not tree.children:\n",
    "        return 1\n",
    "    else:\n",
    "        return max([max_depth(child) for child in tree.children.values()]) + 1"
   ]
  },
  {
   "cell_type": "code",
   "execution_count": 125,
   "metadata": {},
   "outputs": [
    {
     "data": {
      "text/plain": [
       "4"
      ]
     },
     "execution_count": 125,
     "metadata": {},
     "output_type": "execute_result"
    }
   ],
   "source": [
    "max_depth(p2.mcts.root)"
   ]
  },
  {
   "cell_type": "markdown",
   "metadata": {},
   "source": [
    "Ok, now let's watch the depth grow over time. In addition, we can watch a couple of move's as their probabilities change with deep exploration. Let's watch (4,1) and (7,3). The first move needs to be made to block X from winning. The second would be a step toward winning. Note that we set n_playout to 1 so we just explore one smove at a time."
   ]
  },
  {
   "cell_type": "code",
   "execution_count": 126,
   "metadata": {},
   "outputs": [],
   "source": [
    "import matplotlib.pyplot as plt"
   ]
  },
  {
   "cell_type": "code",
   "execution_count": 127,
   "metadata": {},
   "outputs": [
    {
     "data": {
      "image/png": "[encoded data removed]",
      "text/plain": [
       "<matplotlib.figure.Figure at 0x7fd0f32a9da0>"
      ]
     },
     "metadata": {},
     "output_type": "display_data"
    }
   ],
   "source": [
    "state = GameState(to_move='X', board={(1,1): 'X', (2, 1): 'X',\n",
    "                                      (7,1): 'O', (7, 2): 'O'}, utility=0, moves=moves)\n",
    "state = game.result(state, (3,1))\n",
    "p2.mcts.update_with_move(-1)\n",
    "p2.mcts.n_playout = 1\n",
    "\n",
    "history = []\n",
    "depth = [0]\n",
    "watchlist = [(4,1), (7,3)]\n",
    "cycles = 50\n",
    "for i in range(cycles):\n",
    "    move_probs = p2.mcts.get_move_probs(state)\n",
    "    depth.append(max_depth(p2.mcts.root))\n",
    "    watch = []\n",
    "    for move in watchlist:\n",
    "        index = move_probs[0].index(move)\n",
    "        watch.append(move_probs[1][index])\n",
    "    history.append(watch)\n",
    "plt.plot(history);"
   ]
  },
  {
   "cell_type": "code",
   "execution_count": 128,
   "metadata": {},
   "outputs": [
    {
     "data": {
      "image/png": "[encoded data removed]",
      "text/plain": [
       "<matplotlib.figure.Figure at 0x7fd0f32b2940>"
      ]
     },
     "metadata": {},
     "output_type": "display_data"
    }
   ],
   "source": [
    "plt.plot(depth);"
   ]
  },
  {
   "cell_type": "markdown",
   "metadata": {},
   "source": [
    "Interesting! So we need at least 40 playouts before we can find an endstate."
   ]
  },
  {
   "cell_type": "markdown",
   "metadata": {},
   "source": [
    "## Summary\n",
    "\n",
    "* updates root as it makes the move; no need to keep previous tree expansions\n",
    "* wherever you are, you keep the statistics about this root's possibilities"
   ]
  }
 ],
 "metadata": {
  "kernelspec": {
   "display_name": "Python 3",
   "language": "python",
   "name": "python3"
  },
  "language_info": {
   "codemirror_mode": {
    "name": "ipython",
    "version": 3
   },
   "file_extension": ".py",
   "mimetype": "text/x-python",
   "name": "python",
   "nbconvert_exporter": "python",
   "pygments_lexer": "ipython3",
   "version": "3.6.3"
  }
 },
 "nbformat": 4,
 "nbformat_minor": 2
}
