{
 "cells": [
  {
   "cell_type": "markdown",
   "metadata": {},
   "source": [
    "# ConnectFour\n",
    "\n",
    "This notebook explores the game ConnectFour in the aima3 collection.\n",
    "\n",
    "* You drop pieces from the top into one of the columns, and they land in the next available open spot.\n",
    "* You must get 4 positions in a row in this grid, either horizontally, vertically, or diagonally.\n",
    "\n",
    "\n",
    "   -    | 1 | 2 | 3 | 4 | 5 | 6 | 7\n",
    "--------|---|---|---|---|---|---|---\n",
    "**6**   |( 1, 6) | ( 2, 6) | ( 3, 6) | (4,6) |(5,6) |(6,6) |(7,6)\n",
    "**5**   |( 1, 5) | ( 2, 5) | ( 3, 5) | (4,5) |(5,5) |(6,5) |(7,5)\n",
    "**4**   |( 1, 4) | ( 2, 4) | ( 3, 4) | (4,4) |(5,4) |(6,4) |(7,4)\n",
    "**3**   |( 1, 3) | ( 2, 3) | ( 3, 3) | (4,3) |(5,3) |(6,3) |(7,3)\n",
    "**2**   |( 1, 2) | ( 2, 2) | ( 3, 2) | (4,2) |(5,2) |(6,2) |(7,2)\n",
    "**1**   |( 1, 1) | ( 2, 1) | ( 3, 1) | (4,1) |(5,1) |(6,1) |(7,1)"
   ]
  },
  {
   "cell_type": "markdown",
   "metadata": {},
   "source": [
    "There are a few pre-defined AI agents that can play these games. QueryPlayer is for humans, and MCTS is MonteCarloTreeSearch. The other are well-known search-based algorithms."
   ]
  },
  {
   "cell_type": "code",
   "execution_count": 1,
   "metadata": {},
   "outputs": [],
   "source": [
    "from aima3.games import (ConnectFour, RandomPlayer, QueryPlayer, players,\n",
    "                         MCTSPlayer, MiniMaxPlayer, AlphaBetaCutoffPlayer,\n",
    "                         AlphaBetaPlayer)"
   ]
  },
  {
   "cell_type": "markdown",
   "metadata": {},
   "source": [
    "Let's play a game:"
   ]
  },
  {
   "cell_type": "code",
   "execution_count": 2,
   "metadata": {},
   "outputs": [
    {
     "name": "stdout",
     "output_type": "stream",
     "text": [
      "Rando is thinking...\n",
      "Rando makes action (3, 1):\n",
      ". . . . . . . \n",
      ". . . . . . . \n",
      ". . . . . . . \n",
      ". . . . . . . \n",
      ". . . . . . . \n",
      ". . X . . . . \n",
      "Alphie is thinking...\n",
      "Alphie makes action (1, 1):\n",
      ". . . . . . . \n",
      ". . . . . . . \n",
      ". . . . . . . \n",
      ". . . . . . . \n",
      ". . . . . . . \n",
      "O . X . . . . \n",
      "Rando is thinking...\n",
      "Rando makes action (2, 1):\n",
      ". . . . . . . \n",
      ". . . . . . . \n",
      ". . . . . . . \n",
      ". . . . . . . \n",
      ". . . . . . . \n",
      "O X X . . . . \n",
      "Alphie is thinking...\n",
      "Alphie makes action (1, 2):\n",
      ". . . . . . . \n",
      ". . . . . . . \n",
      ". . . . . . . \n",
      ". . . . . . . \n",
      "O . . . . . . \n",
      "O X X . . . . \n",
      "Rando is thinking...\n",
      "Rando makes action (3, 2):\n",
      ". . . . . . . \n",
      ". . . . . . . \n",
      ". . . . . . . \n",
      ". . . . . . . \n",
      "O . X . . . . \n",
      "O X X . . . . \n",
      "Alphie is thinking...\n",
      "Alphie makes action (1, 3):\n",
      ". . . . . . . \n",
      ". . . . . . . \n",
      ". . . . . . . \n",
      "O . . . . . . \n",
      "O . X . . . . \n",
      "O X X . . . . \n",
      "Rando is thinking...\n",
      "Rando makes action (6, 1):\n",
      ". . . . . . . \n",
      ". . . . . . . \n",
      ". . . . . . . \n",
      "O . . . . . . \n",
      "O . X . . . . \n",
      "O X X . . X . \n",
      "Alphie is thinking...\n",
      "Alphie makes action (1, 4):\n",
      ". . . . . . . \n",
      ". . . . . . . \n",
      "O . . . . . . \n",
      "O . . . . . . \n",
      "O . X . . . . \n",
      "O X X . . X . \n",
      "***** Alphie wins!\n"
     ]
    },
    {
     "data": {
      "text/plain": [
       "['Alphie']"
      ]
     },
     "execution_count": 2,
     "metadata": {},
     "output_type": "execute_result"
    }
   ],
   "source": [
    "p1 = RandomPlayer(\"Rando\")\n",
    "p2 = AlphaBetaCutoffPlayer(\"Alphie\")\n",
    "game = ConnectFour()\n",
    "game.play_game(p1, p2)"
   ]
  },
  {
   "cell_type": "code",
   "execution_count": 3,
   "metadata": {},
   "outputs": [
    {
     "name": "stdout",
     "output_type": "stream",
     "text": [
      ". . . . . . . \n",
      ". . . . . . . \n",
      ". . . . . . . \n",
      ". . . . . . . \n",
      ". . . . . . . \n",
      ". . . . . . . \n"
     ]
    }
   ],
   "source": [
    "game.display(game.initial)"
   ]
  },
  {
   "cell_type": "code",
   "execution_count": 4,
   "metadata": {},
   "outputs": [
    {
     "data": {
      "text/plain": [
       "(2, 1)"
      ]
     },
     "execution_count": 4,
     "metadata": {},
     "output_type": "execute_result"
    }
   ],
   "source": [
    "p1.get_action(game.initial, turn=1)"
   ]
  },
  {
   "cell_type": "code",
   "execution_count": 5,
   "metadata": {},
   "outputs": [
    {
     "data": {
      "text/plain": [
       "(1, 1)"
      ]
     },
     "execution_count": 5,
     "metadata": {},
     "output_type": "execute_result"
    }
   ],
   "source": [
    "p2.get_action(game.initial, turn=1)"
   ]
  },
  {
   "cell_type": "markdown",
   "metadata": {},
   "source": [
    "## One player playing both sides:"
   ]
  },
  {
   "cell_type": "code",
   "execution_count": 6,
   "metadata": {},
   "outputs": [
    {
     "name": "stdout",
     "output_type": "stream",
     "text": [
      "Current state:\n",
      ". . . . . . . \n",
      ". . . . . . . \n",
      ". . . . . . . \n",
      ". . . . . . . \n",
      ". . . . . . . \n",
      ". . . . . . . \n",
      "Made the action: (7, 1)\n",
      "Current state:\n",
      ". . . . . . . \n",
      ". . . . . . . \n",
      ". . . . . . . \n",
      ". . . . . . . \n",
      ". . . . . . . \n",
      ". . . . . . X \n",
      "Made the action: (6, 1)\n",
      "Current state:\n",
      ". . . . . . . \n",
      ". . . . . . . \n",
      ". . . . . . . \n",
      ". . . . . . . \n",
      ". . . . . . . \n",
      ". . . . . O X \n",
      "Made the action: (1, 1)\n",
      ". . . . . . . \n",
      ". . . . . . . \n",
      ". . . . . . . \n",
      ". . . . . . . \n",
      ". . . . . . . \n",
      "X . . . . O X \n"
     ]
    }
   ],
   "source": [
    "state = game.initial\n",
    "turn = 1\n",
    "for i in range(3):\n",
    "    print(\"Current state:\")\n",
    "    game.display(state)\n",
    "    action = p1.get_action(state, round(turn))\n",
    "    state = game.result(state, action)\n",
    "    print(\"Made the action: %s\" % (action, ))\n",
    "    turn += .5\n",
    "game.display(state)"
   ]
  },
  {
   "cell_type": "code",
   "execution_count": 7,
   "metadata": {},
   "outputs": [
    {
     "name": "stdout",
     "output_type": "stream",
     "text": [
      "0 RandomPlayer-0\n",
      "1 AlphaBetaPlayer-0\n",
      "2 MiniMaxPlayer-0\n",
      "3 AlphaBetaCutoffPlayer-0\n",
      "4 MCTSPlayer-0\n"
     ]
    }
   ],
   "source": [
    "for i,p in enumerate(players):\n",
    "    print(i, p.name)"
   ]
  },
  {
   "cell_type": "code",
   "execution_count": 8,
   "metadata": {},
   "outputs": [
    {
     "name": "stderr",
     "output_type": "stream",
     "text": [
      "100%|██████████| 10/10 [00:04<00:00,  2.02it/s]\n"
     ]
    },
    {
     "data": {
      "text/plain": [
       "{'AlphaBetaCutoffPlayer-0': 10, 'DRAW': 0, 'MCTSPlayer-0': 0}"
      ]
     },
     "execution_count": 8,
     "metadata": {},
     "output_type": "execute_result"
    }
   ],
   "source": [
    "game.play_matches(10, players[4], players[3])"
   ]
  },
  {
   "cell_type": "code",
   "execution_count": 9,
   "metadata": {},
   "outputs": [
    {
     "name": "stderr",
     "output_type": "stream",
     "text": [
      "100%|██████████| 60/60 [00:14<00:00, 11.60it/s]\n"
     ]
    },
    {
     "data": {
      "text/plain": [
       "{'AlphaBetaCutoffPlayer-0': 38,\n",
       " 'DRAW': 0,\n",
       " 'MCTSPlayer-0': 20,\n",
       " 'RandomPlayer-0': 2}"
      ]
     },
     "execution_count": 9,
     "metadata": {},
     "output_type": "execute_result"
    }
   ],
   "source": [
    "game.play_tournament(10, players[4], players[3], players[0])"
   ]
  }
 ],
 "metadata": {
  "kernelspec": {
   "display_name": "Python 3",
   "language": "python",
   "name": "python3"
  },
  "language_info": {
   "codemirror_mode": {
    "name": "ipython",
    "version": 3
   },
   "file_extension": ".py",
   "mimetype": "text/x-python",
   "name": "python",
   "nbconvert_exporter": "python",
   "pygments_lexer": "ipython3",
   "version": "3.6.3"
  }
 },
 "nbformat": 4,
 "nbformat_minor": 2
}
